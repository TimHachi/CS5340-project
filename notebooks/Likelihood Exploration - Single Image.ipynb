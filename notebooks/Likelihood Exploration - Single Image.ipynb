{
 "cells": [
  {
   "cell_type": "markdown",
   "id": "patent-nutrition",
   "metadata": {},
   "source": [
    "## Import Libraries"
   ]
  },
  {
   "cell_type": "code",
   "execution_count": 90,
   "id": "fossil-storage",
   "metadata": {},
   "outputs": [],
   "source": [
    "import numpy as np\n",
    "from matplotlib import image as mpimg\n",
    "import matplotlib.pyplot as plt\n",
    "from PIL import Image\n",
    "%matplotlib inline\n",
    "from random import randrange\n",
    "import glob\n"
   ]
  },
  {
   "cell_type": "markdown",
   "id": "blank-machine",
   "metadata": {},
   "source": [
    "## Load Images"
   ]
  },
  {
   "cell_type": "code",
   "execution_count": 62,
   "id": "statutory-archive",
   "metadata": {},
   "outputs": [],
   "source": [
    "def random_crop(img, width):\n",
    "    x, y = img.size\n",
    "    matrix = width\n",
    "\n",
    "    x1 = randrange(0, x - matrix)\n",
    "    y1 = randrange(0, y - matrix)\n",
    "    return img.crop((x1, y1, x1 + matrix, y1 + matrix))"
   ]
  },
  {
   "cell_type": "code",
   "execution_count": 63,
   "id": "ultimate-theory",
   "metadata": {},
   "outputs": [],
   "source": [
    "def load_images(folderpath, limit, img_size_crop):\n",
    "    image_paths = sorted(glob.glob(folderpath))\n",
    "    img_arr = []\n",
    "    for img_path in image_paths[:limit]:\n",
    "        print('Loading', img_path)\n",
    "        image = Image.open(img_path).convert('L')\n",
    "#         image = random_crop(image, img_size_crop)\n",
    "        image = np.asarray(image)\n",
    "        # summarize shape of the pixel array\n",
    "        img_arr.append(image)\n",
    "    \n",
    "    return img_arr"
   ]
  },
  {
   "cell_type": "code",
   "execution_count": 64,
   "id": "reduced-cedar",
   "metadata": {},
   "outputs": [
    {
     "name": "stdout",
     "output_type": "stream",
     "text": [
      "Loading ../dataset/DIV2K_valid_HR/0801.png\n",
      "Loading ../dataset/DIV2K_valid_HR/0802.png\n",
      "Loading ../dataset/DIV2K_valid_HR/0803.png\n",
      "Loading ../dataset/DIV2K_valid_HR/0804.png\n",
      "Loading ../dataset/DIV2K_valid_HR/0805.png\n",
      "Loading ../dataset/DIV2K_valid_HR/0806.png\n",
      "Loading ../dataset/DIV2K_valid_HR/0807.png\n",
      "Loading ../dataset/DIV2K_valid_HR/0808.png\n",
      "Loading ../dataset/DIV2K_valid_HR/0809.png\n",
      "Loading ../dataset/DIV2K_valid_HR/0810.png\n"
     ]
    }
   ],
   "source": [
    "hr_img_arr = load_images(\"../dataset/DIV2K_valid_HR/*.png\", 10, 10)"
   ]
  },
  {
   "cell_type": "code",
   "execution_count": 65,
   "id": "particular-composer",
   "metadata": {},
   "outputs": [
    {
     "name": "stdout",
     "output_type": "stream",
     "text": [
      "Loading ../dataset/DIV2K_valid_LR_bicubic/x2/0801x2.png\n",
      "Loading ../dataset/DIV2K_valid_LR_bicubic/x2/0802x2.png\n",
      "Loading ../dataset/DIV2K_valid_LR_bicubic/x2/0803x2.png\n",
      "Loading ../dataset/DIV2K_valid_LR_bicubic/x2/0804x2.png\n",
      "Loading ../dataset/DIV2K_valid_LR_bicubic/x2/0805x2.png\n",
      "Loading ../dataset/DIV2K_valid_LR_bicubic/x2/0806x2.png\n",
      "Loading ../dataset/DIV2K_valid_LR_bicubic/x2/0807x2.png\n",
      "Loading ../dataset/DIV2K_valid_LR_bicubic/x2/0808x2.png\n",
      "Loading ../dataset/DIV2K_valid_LR_bicubic/x2/0809x2.png\n",
      "Loading ../dataset/DIV2K_valid_LR_bicubic/x2/0810x2.png\n"
     ]
    }
   ],
   "source": [
    "lr_img_arr = load_images(\"../dataset/DIV2K_valid_LR_bicubic/x2/*.png\", 10, 10)"
   ]
  },
  {
   "cell_type": "code",
   "execution_count": 66,
   "id": "dutch-scene",
   "metadata": {},
   "outputs": [],
   "source": [
    "lr_img_arr = [e.flatten() for e in lr_img_arr]"
   ]
  },
  {
   "cell_type": "code",
   "execution_count": 67,
   "id": "olive-invite",
   "metadata": {},
   "outputs": [
    {
     "data": {
      "text/plain": [
       "10"
      ]
     },
     "execution_count": 67,
     "metadata": {},
     "output_type": "execute_result"
    }
   ],
   "source": [
    "len(lr_img_arr)"
   ]
  },
  {
   "cell_type": "markdown",
   "id": "rotary-intersection",
   "metadata": {},
   "source": [
    "## Downsample and Blur HR Images"
   ]
  },
  {
   "cell_type": "code",
   "execution_count": 68,
   "id": "municipal-repository",
   "metadata": {},
   "outputs": [],
   "source": [
    "def matlab_style_gauss2D(shape=(3,3),sigma=0.5):\n",
    "    \"\"\"\n",
    "    2D gaussian mask - should give the same result as MATLAB's\n",
    "    fspecial('gaussian',[shape],[sigma])\n",
    "    \"\"\"\n",
    "    m,n = [(ss-1.)/2. for ss in shape]\n",
    "    y,x = np.ogrid[-m:m+1,-n:n+1]\n",
    "    h = np.exp( -(x*x + y*y) / (2.*sigma*sigma) )\n",
    "    h[ h < np.finfo(h.dtype).eps*h.max() ] = 0\n",
    "    sumh = h.sum()\n",
    "    if sumh != 0:\n",
    "        h /= sumh\n",
    "    return h"
   ]
  },
  {
   "cell_type": "code",
   "execution_count": 69,
   "id": "skilled-eagle",
   "metadata": {},
   "outputs": [],
   "source": [
    "import sys\n",
    "sys.path.append('..')"
   ]
  },
  {
   "cell_type": "code",
   "execution_count": 70,
   "id": "approved-burning",
   "metadata": {},
   "outputs": [],
   "source": [
    "from python_pipeline.obs_for_SR import obs_for_SR"
   ]
  },
  {
   "cell_type": "markdown",
   "id": "demographic-norwegian",
   "metadata": {},
   "source": [
    "Run downsampling + blur on all images"
   ]
  },
  {
   "cell_type": "code",
   "execution_count": 71,
   "id": "strategic-christianity",
   "metadata": {},
   "outputs": [
    {
     "name": "stderr",
     "output_type": "stream",
     "text": [
      "<ipython-input-71-7aece411d74e>:1: VisibleDeprecationWarning: Creating an ndarray from ragged nested sequences (which is a list-or-tuple of lists-or-tuples-or ndarrays with different lengths or shapes) is deprecated. If you meant to do this, you must specify 'dtype=object' when creating the ndarray.\n",
      "  transformed_lr_img_arr = np.array([\n"
     ]
    }
   ],
   "source": [
    "transformed_lr_img_arr = np.array([\n",
    "    obs_for_SR(\n",
    "        image, \n",
    "        matlab_style_gauss2D((7,7), 2),\n",
    "        1, \n",
    "        2\n",
    "    ).flatten() for image in hr_img_arr\n",
    "])"
   ]
  },
  {
   "cell_type": "code",
   "execution_count": 72,
   "id": "surprising-facing",
   "metadata": {},
   "outputs": [
    {
     "data": {
      "text/plain": [
       "10"
      ]
     },
     "execution_count": 72,
     "metadata": {},
     "output_type": "execute_result"
    }
   ],
   "source": [
    "len(transformed_lr_img_arr)"
   ]
  },
  {
   "cell_type": "markdown",
   "id": "egyptian-cornwall",
   "metadata": {},
   "source": [
    "## Gaussian Distribution"
   ]
  },
  {
   "cell_type": "code",
   "execution_count": 74,
   "id": "empty-active",
   "metadata": {},
   "outputs": [],
   "source": [
    "from scipy.stats import multivariate_normal as mvn"
   ]
  },
  {
   "cell_type": "code",
   "execution_count": 93,
   "id": "mental-magazine",
   "metadata": {},
   "outputs": [],
   "source": [
    "# Work with one image\n",
    "def gauss_pdf(lr_img, transformed_lr_img):\n",
    "    mu = np.mean(transformed_lr_img)\n",
    "    std = np.std(transformed_lr_img)\n",
    "    var = np.var(transformed_lr_img)\n",
    "    return mvn.pdf(lr_img, mean=mu, cov=var)\n"
   ]
  },
  {
   "cell_type": "code",
   "execution_count": 96,
   "id": "foreign-lawyer",
   "metadata": {},
   "outputs": [
    {
     "data": {
      "text/plain": [
       "array([0.00224763, 0.00301227, 0.00386395, ..., 0.00167186, 0.00182385,\n",
       "       0.00270458])"
      ]
     },
     "execution_count": 96,
     "metadata": {},
     "output_type": "execute_result"
    }
   ],
   "source": [
    "gauss_pdf(lr_img_arr[0], transformed_lr_img_arr[0])"
   ]
  }
 ],
 "metadata": {
  "kernelspec": {
   "display_name": "Python 3",
   "language": "python",
   "name": "python3"
  },
  "language_info": {
   "codemirror_mode": {
    "name": "ipython",
    "version": 3
   },
   "file_extension": ".py",
   "mimetype": "text/x-python",
   "name": "python",
   "nbconvert_exporter": "python",
   "pygments_lexer": "ipython3",
   "version": "3.8.2"
  }
 },
 "nbformat": 4,
 "nbformat_minor": 5
}
