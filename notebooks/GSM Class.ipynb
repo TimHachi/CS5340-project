{
 "cells": [
  {
   "cell_type": "code",
   "execution_count": 1,
   "id": "governing-speaker",
   "metadata": {},
   "outputs": [],
   "source": [
    "import numpy as np"
   ]
  },
  {
   "cell_type": "code",
   "execution_count": 4,
   "id": "dangerous-reproduction",
   "metadata": {},
   "outputs": [],
   "source": [
    "from math import sqrt"
   ]
  },
  {
   "cell_type": "code",
   "execution_count": 2,
   "id": "alike-comment",
   "metadata": {},
   "outputs": [],
   "source": [
    "a = np.array([[0,0,0], [1,1,1]])\n",
    "b = np.array([1,2,3])"
   ]
  },
  {
   "cell_type": "code",
   "execution_count": 3,
   "id": "extreme-projection",
   "metadata": {},
   "outputs": [
    {
     "data": {
      "text/plain": [
       "array([[-1, -2, -3],\n",
       "       [ 0, -1, -2]])"
      ]
     },
     "execution_count": 3,
     "metadata": {},
     "output_type": "execute_result"
    }
   ],
   "source": [
    "a- b"
   ]
  },
  {
   "cell_type": "code",
   "execution_count": null,
   "id": "minute-controversy",
   "metadata": {},
   "outputs": [],
   "source": [
    "class GSM:\n",
    "    def __init__(self, mu, precision, scales, weights):\n",
    "        self.mu = mu # 1 x dim\n",
    "        self.precision = precision # identity matrix of dim\n",
    "        self.scales = scales # 1 x nscales\n",
    "        self.weights = weights # 1 x nscales\n",
    "        self.mean = mu\n",
    "        self.nscales = len(scales)\n",
    "        self.ndims = len(mu)\n",
    "        \n",
    "    def eval(self, x):\n",
    "        \n",
    "        ndims   = self.ndims;\n",
    "        nscales = self.nscales;\n",
    "        ndata   = x.shape[0] # or maybe 1\n",
    "        \n",
    "        x_mu = x - self.mu\n",
    "        \n",
    "                norm_const = np.zeros((nscales, 1))\n",
    "        maha = np.zeros((nscales, ndata))\n",
    "        \n",
    "        for j in range(1, nscales+1):\n",
    "            norm_const[j] = np.sqrt(np.linalg.det(self.precision[j])) / ((2 * pi) ** (ndims / 2))\n",
    "            maha[j,:] = np.sum(np.multiply(x_mu, self.precision[j] * x_mu), axis=0)\n",
    "        \n",
    "        exponent = np.exp(-0.5 * self.scales * maha)\n",
    "        p = np.multiply(np.multiply(norm_const, self.weights), (np.power(self.scales, ndims/2))) * exponent\n",
    "        \n",
    "        p = np.sum(p, axis=0)\n",
    "        \n",
    "        return p\n",
    "    \n",
    "    def log_grad_x(self, x):\n",
    "        ndims   = self.ndims;\n",
    "        nscales = self.nscales;\n",
    "        ndata   = x.shape[0] # or maybe 1\n",
    "        \n",
    "        x_mu = x - self.mu\n",
    "        \n",
    "        norm_const = np.zeros((nscales, 1))\n",
    "        maha = np.zeros((nscales, ndata))\n",
    "        \n",
    "        for j in range(1, nscales+1):\n",
    "            norm_const[j] = np.sqrt(np.linalg.det(self.precision[j])) / ((2 * pi) ** (ndims / 2))\n",
    "            maha[j,:] = np.sum(np.multiply(x_mu, self.precision[j] * x_mu), axis=0)\n",
    "            P_x_mu = self.precision[j] * x_mu\n",
    "        \n",
    "        exponent = np.exp(-0.5 * self.scales * maha)\n",
    "        y = np.multiply(np.multiply(norm_const, self.weights), (np.power(self.scales, ndims/2))) * exponent\n",
    "        y = y / np.sum(y, axis=0) # or maybe 1\n",
    "        \n",
    "        g = np.zeros([ndims, ndata])\n",
    "        \n",
    "        for s in range(1, nscales):\n",
    "            g = g - self.scales[s] * P_x_mu * y\n",
    "            \n",
    "        return g\n",
    "\n",
    "    def log_grad_weights(self, x):\n",
    "        ndims   = self.ndims;\n",
    "        nscales = self.nscales;\n",
    "        ndata   = x.shape[0] # or maybe 1\n",
    "        \n",
    "        x_mu = x - self.mu\n",
    "        \n",
    "        norm_const = np.zeros((nscales, 1))\n",
    "        maha = np.zeros((nscales, ndata))\n",
    "        \n",
    "        for j in range(1, nscales+1):\n",
    "            norm_const[j] = np.sqrt(np.linalg.det(self.precision[j])) / ((2 * pi) ** (ndims / 2))\n",
    "            maha[j,:] = np.sum(np.multiply(x_mu, self.precision[j] * x_mu), axis=0)\n",
    "        \n",
    "        exponent = np.exp(-0.5 * self.scales * maha)\n",
    "        y = np.multiply(np.multiply(norm_const, self.weights), (np.power(self.scales, ndims/2))) * exponent\n",
    "        \n",
    "        invld_arr = np.sum(y, axis = 0)\n",
    "        invld = np.where(invld_arr <=0)\n",
    "        y[:invld] = []\n",
    "        \n",
    "        gamma = y / np.sum(self.weights * y ,axis=0)\n",
    "        g = np.sum(gamma, axis=1) - ndata\n",
    "        g = np.reshape(g, self.weights.shape)\n",
    "        \n",
    "        return g\n",
    "    \n",
    "    def sample(self, nsamples):\n",
    "        ndims = len(self.mean)\n",
    "        nscales = len(self.weights)\n",
    "        self.weights = self.weights[::-1]\n",
    "        \n",
    "        cw = np.cumsum(self.weights, axis=0)\n",
    "        \n",
    "        mat_1 = np.matlib.repmat(np.random.rand(1, nsamples), nscales, 1)\n",
    "        mat_2 = np.matlib.repmat(cw, 1, nsamples)\n",
    "        mix_comp = np.sum(mat_1 <= mat_2, axis=0)\n",
    "  \n",
    "        # Whitening transform of precision\n",
    "    \n",
    "        tmp = np.zeros((ndims, nsamples))\n",
    "        r = np.random.randn(ndims, samples)\n",
    "        \n",
    "        for j in range(1, nscales+1):\n",
    "            tmp2 = np.linalg.lstsq(np.linalg.cholesky(self.precision[j]), r)\n",
    "            idx = np.matlib.repmat(mix_comp == j, ndims, 1)\n",
    "            tmp[idx] = tmp2[idx]\n",
    "  \n",
    "        mat_3 = np.matlib.repmat(np.sqrt(self.scales[mix_comp], ndims, 1))\n",
    "        y = np.matlib.repmat(self.mean, 1, nsamples) + np.divide(tmp, mat_3)\n",
    "        \n",
    "        return y\n",
    "    \n",
    "    \n",
    "    def z_distribution(self, x):\n",
    "        ndims = self.ndims\n",
    "        nscales = self.nscales\n",
    "        ndata = x.shape[0] # Or maybe index 1\n",
    "        \n",
    "        x_mu = x - self.mu\n",
    "        \n",
    "        norm_const = np.zeros((nscales, 1))\n",
    "        maha = np.zeros((nscales, ndata))\n",
    "        \n",
    "        for j in range(1, nscales+1):\n",
    "            norm_const[j] = np.sqrt(np.linalg.det(self.precision[j])) / ((2 * pi) ** (ndims / 2))\n",
    "            maha[j,:] = np.sum(np.multiply(x_mu, self.precision[j] * x_mu), axis=0)\n",
    "            \n",
    "        exponent = np.exp(-0.5 * self.scales * maha)\n",
    "        y = np.multiply(np.multiply(norm_const, self.weights), (np.power(self.scales, ndims/2))) * exponent\n",
    "        \n",
    "        p = y / np.sum(y, axis=0)\n",
    "        \n",
    "        return p\n",
    "    \n",
    "    \n",
    "    def em(self, x, niters):\n",
    "        ndims = self.ndims\n",
    "        nscales = self.nscales\n",
    "        ndata = x.shape[0] # Or maybe index 1\n",
    "        \n",
    "        x_mu = x - self.mu\n",
    "        \n",
    "        norm_const = np.zeros((nscales, 1))\n",
    "        maha = np.zeros((nscales, ndata))\n",
    "        \n",
    "        for j in range(1, nscales+1):\n",
    "            norm_const[j] = np.sqrt(np.linalg.det(self.precision[j])) / ((2 * pi) ** (ndims / 2))\n",
    "            maha[j,:] = np.sum(np.multiply(x_mu, self.precision[j] * x_mu), axis=0)\n",
    "            \n",
    "        for i in range(1, niters+1):\n",
    "            exponent = np.exp(-0.5 * self.scales * maha)\n",
    "            y = np.multiply(np.multiply(norm_const, self.weights), (np.power(self.scales, ndims/2))) * exponent\n",
    "            \n",
    "        invld_arr = np.sum(y, axis = 0)\n",
    "        invld = np.where(invld_arr <=0)\n",
    "        y[:invld] = 1\n",
    "        \n",
    "        gamma = np.divide(y, np.matlib.repmat(np.sum(y, axis=0), nscales, 1))\n",
    "        self.weights = np.mean(gamma, axis=1)\n",
    "\n",
    "        "
   ]
  },
  {
   "cell_type": "code",
   "execution_count": 15,
   "id": "worse-excess",
   "metadata": {},
   "outputs": [
    {
     "data": {
      "text/plain": [
       "(2, 2)"
      ]
     },
     "execution_count": 15,
     "metadata": {},
     "output_type": "execute_result"
    }
   ],
   "source": [
    "np.zeros([2,2]).shape"
   ]
  },
  {
   "cell_type": "code",
   "execution_count": 16,
   "id": "willing-edwards",
   "metadata": {},
   "outputs": [
    {
     "data": {
      "text/plain": [
       "array([4, 3, 2, 1])"
      ]
     },
     "execution_count": 16,
     "metadata": {},
     "output_type": "execute_result"
    }
   ],
   "source": [
    "np.array([1,2,3,4])[::-1]"
   ]
  },
  {
   "cell_type": "code",
   "execution_count": 17,
   "id": "vertical-orange",
   "metadata": {},
   "outputs": [
    {
     "data": {
      "text/plain": [
       "array([ 1,  3,  6, 10])"
      ]
     },
     "execution_count": 17,
     "metadata": {},
     "output_type": "execute_result"
    }
   ],
   "source": [
    "np.cumsum(np.array([1,2,3,4]),axis=0)"
   ]
  },
  {
   "cell_type": "code",
   "execution_count": null,
   "id": "hungarian-rwanda",
   "metadata": {},
   "outputs": [],
   "source": []
  }
 ],
 "metadata": {
  "kernelspec": {
   "display_name": "Python 3",
   "language": "python",
   "name": "python3"
  },
  "language_info": {
   "codemirror_mode": {
    "name": "ipython",
    "version": 3
   },
   "file_extension": ".py",
   "mimetype": "text/x-python",
   "name": "python",
   "nbconvert_exporter": "python",
   "pygments_lexer": "ipython3",
   "version": "3.8.2"
  }
 },
 "nbformat": 4,
 "nbformat_minor": 5
}
